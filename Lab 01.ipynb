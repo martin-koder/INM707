{
 "cells": [
  {
   "cell_type": "markdown",
   "metadata": {},
   "source": [
    "# Lab 01 - Exit the dungeon!\n",
    "\n",
    "In this first lab, we will create by hand our first Reinforcement Learning environment.\n",
    "A lot of agents will be harmed in the process of solving the lab.\n",
    "\n",
    "## The environment\n",
    "\n",
    "The environment is a NxN array of integers. \n",
    "Each cell of this environment can have the following values:\n",
    "- 0 : empty cell\n",
    "- 1 : obstacle, non-traversable\n",
    "- 2 : lava\n",
    "- 3 : exit\n",
    "\n",
    "All border cells are obstacles.\n",
    "Upon initialization, the environment has:\n",
    "- N/2 obstacles placed randomly in the maze.\n",
    "- N/2 lava cells placed randomly in the cell.\n",
    "\n",
    "## The game\n",
    "\n",
    "The agent starts in a random empty cell, and has to reach the exit.\n",
    "The exit is randomly positioned in an other empty cell.\n",
    "\n",
    "At each timestep:\n",
    "- the agent decides on an action (move up, left, right or down)\n",
    "- the action is sent to the environment\n",
    "- the environment sends back observations, rewards and a boolean that indicates whether the environment terminated.\n",
    "\n",
    "The environment terminates if the agent reaches the exit, or if the environement reaches a time limit of N^2 timesteps.\n",
    "\n",
    "## Observations\n",
    "\n",
    "The agent receives a dictionary of observations:\n",
    "- target: relative coordinates of the exit \n",
    "- proximity: a 3x3 array that encodes for the value of the cells around the agent.\n",
    "\n",
    "## Rewards\n",
    "\n",
    "When acting, an agent receives a reward depending on the cell it ends up on:\n",
    "- if the agent moves towards an obstacle, it gets a reward of -5 and stays at its original position\n",
    "- if the agent is on a lava cell after its action, it receives a reward of -20\n",
    "- at each timestep, the agent receives an additional reward of -1\n",
    "- when the agent reaches the goal, it receives a reward of N**2\n"
   ]
  },
  {
   "cell_type": "code",
   "execution_count": 1,
   "metadata": {},
   "outputs": [],
   "source": [
    "import numpy as np\n",
    "import matplotlib.pyplot as plt\n",
    "import random"
   ]
  },
  {
   "cell_type": "markdown",
   "metadata": {},
   "source": [
    "# Part 1 - Defining the environment."
   ]
  },
  {
   "cell_type": "code",
   "execution_count": 265,
   "metadata": {},
   "outputs": [],
   "source": [
    "class Dungeon:\n",
    "    \n",
    "    def __init__(self, N):\n",
    "        self.N=N\n",
    "        self.route_history=[]\n",
    "        self.dungeon=np.zeros((N, N)) # Numpy array that holds the information about the environment\n",
    "        self.dungeon[0]=self.dungeon[-1]=self.dungeon[:, 0]=self.dungeon[:, -1]= 1 #put obstacles in each border cell\n",
    "        flat_dungeon=self.dungeon.flatten() #flatten so as to allow picking random indices to put in obstacles and lava\n",
    "        inner_dungeon_inds=np.asarray(np.where(flat_dungeon!=1)).flatten() #define inner_dungeon indices (i.e. not including borders)\n",
    "        rand_inds = np.random.choice(inner_dungeon_inds, size=(2*(self.N//2)))  #pick random indices of the 'inner dungeon' \n",
    "        for i in rand_inds[int((len(rand_inds)/2)):]:\n",
    "            flat_dungeon[i]=1\n",
    "        for i in rand_inds[:int((len(rand_inds)/2))]:\n",
    "            flat_dungeon[i]=2\n",
    "        self.dungeon=flat_dungeon.reshape(self.dungeon.shape)#reshape dungeon back to original shape \n",
    "        self.start_dungeon = self.dungeon.copy() # create a copy to restore dungeon cells after agent moves\n",
    "        self.done=False\n",
    "\n",
    "    def step(self, action):\n",
    "        old_i, old_j = self.position_agent # save as another var in case of obstacle\n",
    "        i,j = self.position_agent\n",
    "        e,x = self.position_exit\n",
    "        previous_location_status=int(self.dungeon[old_i, old_j])\n",
    "        if action =='up': i-=1   # define actions \n",
    "        if action =='down': i+=1      \n",
    "        if action =='left': j-=1    \n",
    "        if action =='right': j+=1      \n",
    "        self.position_agent = i,j # modify the position of the agent\n",
    "       \n",
    "        '''calculate total reward'''\n",
    "        location_type=int(self.dungeon[i,j])\n",
    "        if location_type==0:#free cell\n",
    "            pass\n",
    "        if location_type==1: #obstacle\n",
    "            self.reward-= 5\n",
    "            self.route_history.append(self.position_agent) # record the agent as having hit the obstacle\n",
    "        if location_type==2: #lava\n",
    "            self.reward-=20\n",
    "            self.dungeon[i,j]=4 # agent moves on to the lava\n",
    "        if location_type==3: #exit\n",
    "            self.reward+=self.N**2\n",
    "        self.reward-=1 # minus one for each time step\n",
    "        if self.t==0:\n",
    "            self.dungeon[old_i, old_j]=0  # if first step then previous position becomes free cell\n",
    "            \n",
    "        '''restore previous cell status'''\n",
    "        self.dungeon=self.start_dungeon.copy()\n",
    "        if location_type==1: # if obstacle\n",
    "            self.position_agent = old_i, old_j # go back to previous position.\n",
    "            self.dungeon[old_i, old_j]=4\n",
    "        else:\n",
    "            self.position_agent = i,j \n",
    "            self.dungeon[i,j]=4\n",
    "        self.dungeon[e,x]=3\n",
    "        \n",
    "        '''calculate observations'''\n",
    "        self.target = np.asarray(self.position_exit) -  np.asarray(self.position_agent) #relative co-ordinates of the exit\n",
    "        i,j = self.position_agent\n",
    "        self.proximity = self.dungeon[i-1:i+2,j-1:j+2]\n",
    "        self.route_history.append(self.position_agent)\n",
    "        \n",
    "        # update time\n",
    "        self.t+=1\n",
    "\n",
    "        # verify termination condition\n",
    "        self.done=False\n",
    "        if location_type==3:\n",
    "            self.exit_found==True\n",
    "            self.done=True\n",
    "        if self.t==self.time_limit:\n",
    "            self.out_of_time==True\n",
    "            self.done=True\n",
    "#         self.update_outputs() #show what has happened\n",
    "#         return self.target, self.proximity, self.reward, done #why does Michael ask to return 'done?' Why does it need returning?\n",
    "        \n",
    "    def reset(self):\n",
    "        \n",
    "        self.exit_found=False\n",
    "        self.out_of_time=False\n",
    "        flat_dungeon=self.dungeon.flatten() #flatten so as to allow picking a random index for agent start position\n",
    "        inner_dungeon_inds=np.asarray(np.where(flat_dungeon==0)).flatten()#define inner_dungeon indices (i.e. not including borders)\n",
    "        start_exit_inds = np.random.choice(inner_dungeon_inds, size=2, replace=False)#pick random indices of the 'inner dungeon' to be the starting point and exit\n",
    "        start_ind = start_exit_inds[0]\n",
    "        exit_ind = start_exit_inds[1]\n",
    "        flat_dungeon[start_ind]=4 # 4 denotes the location of the agent\n",
    "        flat_dungeon[exit_ind]=3\n",
    "        self.dungeon=flat_dungeon.reshape(self.dungeon.shape)\n",
    "        self.position_agent = np.argwhere(self.dungeon==4).reshape(2)\n",
    "        self.position_exit = np.argwhere(self.dungeon==3).reshape(2)\n",
    "        \n",
    "        # Calculate observations\n",
    "        self.target = self.position_exit - self.position_agent #relative co-ordinates of the exit\n",
    "        i,j = self.position_agent\n",
    "        self.route_history.append(self.position_agent)\n",
    "        self.proximity = self.dungeon[i-1:i+2,j-1:j+2]\n",
    "        self.reward=0\n",
    "        \n",
    "        # run time\n",
    "        self.time_limit = 100\n",
    "        self.t=0\n",
    "    \n",
    "#         return self.target, self.proximity # observations\n",
    "    def update_outputs(self):\n",
    "        print('Dungeon\\n', self.dungeon)\n",
    "        print('\\n Agent Position \\n',  self.position_agent)\n",
    "        print('\\n Proximity \\n', self.proximity)\n",
    "        print('\\n Time\\n', self.t)\n",
    "        print('\\n Route History \\n', self.route_history)\n",
    "        print('\\n Total Reward\\n', self.reward)\n",
    "        print('\\n Done?', self.done)"
   ]
  },
  {
   "cell_type": "code",
   "execution_count": 279,
   "metadata": {},
   "outputs": [
    {
     "name": "stdout",
     "output_type": "stream",
     "text": [
      "Dungeon\n",
      " [[1. 1. 1. 1. 1. 1. 1. 1. 1. 1.]\n",
      " [1. 0. 0. 0. 0. 1. 1. 0. 0. 1.]\n",
      " [1. 0. 0. 0. 0. 0. 0. 0. 0. 1.]\n",
      " [1. 0. 0. 0. 0. 1. 0. 0. 0. 1.]\n",
      " [1. 0. 2. 0. 0. 0. 0. 0. 3. 1.]\n",
      " [1. 0. 0. 0. 0. 2. 0. 0. 0. 1.]\n",
      " [1. 0. 0. 0. 0. 4. 0. 0. 0. 1.]\n",
      " [1. 2. 0. 0. 0. 0. 0. 0. 0. 1.]\n",
      " [1. 2. 0. 0. 1. 0. 0. 0. 0. 1.]\n",
      " [1. 1. 1. 1. 1. 1. 1. 1. 1. 1.]]\n",
      "\n",
      " Agent Position \n",
      " [6 5]\n",
      "\n",
      " Proximity \n",
      " [[0. 2. 0.]\n",
      " [0. 4. 0.]\n",
      " [0. 0. 0.]]\n",
      "\n",
      " Time\n",
      " 0\n",
      "\n",
      " Route History \n",
      " [array([6, 5], dtype=int64)]\n",
      "\n",
      " Total Reward\n",
      " 0\n",
      "\n",
      " Done? False\n"
     ]
    }
   ],
   "source": [
    "test_dungeon=Dungeon(10)\n",
    "test_dungeon.reset()\n",
    "test_dungeon.update_outputs()"
   ]
  },
  {
   "cell_type": "code",
   "execution_count": 208,
   "metadata": {},
   "outputs": [],
   "source": [
    "def random_policy():\n",
    "    av_rewards = []\n",
    "    for N in range(5,100):\n",
    "        trial_dungeon = Dungeon(N)\n",
    "        trial_dungeon.reset()\n",
    "        for trial in range(1000):\n",
    "            total_reward=0\n",
    "            while trial_dungeon.done==False:\n",
    "                lst=['up', 'down', 'left', 'right']\n",
    "                trial_dungeon.step(random.choice(lst))\n",
    "                total_reward+=(trial_dungeon.reward)\n",
    "                av_reward=total_reward/1000\n",
    "    #     print(trial_dungeon.position_agent)\n",
    "        av_rewards.append(av_reward)"
   ]
  },
  {
   "cell_type": "code",
   "execution_count": 209,
   "metadata": {},
   "outputs": [],
   "source": [
    "av_rewards = random_policy()"
   ]
  },
  {
   "cell_type": "code",
   "execution_count": 239,
   "metadata": {},
   "outputs": [],
   "source": [
    "def basic_policy():\n",
    "    basic_av_rewards = []\n",
    "    for N in range(5,100):\n",
    "        trial_dungeon = Dungeon(N)\n",
    "        trial_dungeon.reset()\n",
    "        target_i, target_j = trial_dungeon.target\n",
    "        for trial in range(1000):\n",
    "            total_reward=0\n",
    "            while trial_dungeon.done==False:\n",
    "                lst=[target_i, target_j]\n",
    "                coin_toss = random.choice(lst)\n",
    "                if coin_toss==target_i:\n",
    "                    if coin_toss>0:\n",
    "                        trial_dungeon.step('up')\n",
    "                    else:\n",
    "                        trial_dungeon.step('down')\n",
    "                else:\n",
    "                    if coin_toss>0:\n",
    "                        trial_dungeon.step('right')\n",
    "                    else:\n",
    "                        trial_dungeon.step('left')\n",
    "                total_reward+=(trial_dungeon.reward)\n",
    "                av_reward=total_reward/1000\n",
    "        basic_av_rewards.append(av_reward)\n",
    "    return basic_av_rewards"
   ]
  },
  {
   "cell_type": "code",
   "execution_count": 240,
   "metadata": {},
   "outputs": [],
   "source": [
    "basic_av_rewards = basic_policy()"
   ]
  },
  {
   "cell_type": "code",
   "execution_count": 278,
   "metadata": {},
   "outputs": [
    {
     "data": {
      "text/plain": [
       "Text(0, 0.5, 'Rewards')"
      ]
     },
     "execution_count": 278,
     "metadata": {},
     "output_type": "execute_result"
    },
    {
     "data": {
      "image/png": "[encoded data removed]",
      "text/plain": [
       "<Figure size 432x288 with 1 Axes>"
      ]
     },
     "metadata": {
      "needs_background": "light"
     },
     "output_type": "display_data"
    }
   ],
   "source": [
    "plt.plot(basic_av_rewards, label = 'basic')\n",
    "plt.plot(av_rewards, label='random')\n",
    "plt.legend()\n",
    "plt.title('Basic policy improves marginally with size,\\n but why does it start negative?')\n",
    "plt.xlabel('Size N of Dungeon')\n",
    "plt.ylabel('Rewards')"
   ]
  },
  {
   "cell_type": "code",
   "execution_count": null,
   "metadata": {},
   "outputs": [],
   "source": [
    "#DO NOT ATTEMPT TO RUN - INFINTE LOOP\n",
    "\n",
    "# def intelligent_policy():\n",
    "#     intel_av_rewards = []\n",
    "#     for N in range(5,100):\n",
    "#         trial_dungeon = Dungeon(N)\n",
    "#         trial_dungeon.reset()\n",
    "#         target_i, target_j = trial_dungeon.target\n",
    "#         for trial in range(100):\n",
    "#             total_reward=0\n",
    "#             while trial_dungeon.done==False:\n",
    "#                 lst=[target_i, target_j]\n",
    "#                 coin_toss = random.choice(lst)\n",
    "#                 if coin_toss==target_i:\n",
    "#                     if coin_toss>0:\n",
    "#                         if trial_dungeon.proximity[0,1]==0:\n",
    "#                             trial_dungeon.step('up')\n",
    "#                         else:\n",
    "#                             coin_toss==target_j\n",
    "#                     else:\n",
    "#                         if trial_dungeon.proximity[2,1]==0:\n",
    "#                             trial_dungeon.step('down')\n",
    "#                         else:\n",
    "#                             coin_toss==target_j\n",
    "#                 else:\n",
    "#                     if coin_toss>0:\n",
    "#                         if trial_dungeon.proximity[1,2]==0:\n",
    "#                             trial_dungeon.step('right')\n",
    "# #                         else:\n",
    "# #                             coin_toss==target_i\n",
    "#                     else:\n",
    "#                         if trial_dungeon.proximity[1,0]==0:\n",
    "#                             trial_dungeon.step('left')\n",
    "# #                         else:\n",
    "# #                             coin_toss==target_i\n",
    "#                 total_reward+=(trial_dungeon.reward)\n",
    "#                 av_reward=total_reward/100\n",
    "#         intel_av_rewards.append(av_reward)\n",
    "#     return intel_av_rewards"
   ]
  },
  {
   "cell_type": "code",
   "execution_count": null,
   "metadata": {},
   "outputs": [],
   "source": [
    "# dungeon = Dungeon(10)\n",
    "# dungeon.reset()\n",
    "\n",
    "# print(dungeon.position_agent)\n",
    "# dungeon.display()\n",
    "# obs, reward, done = dungeon.step( ... )\n",
    "\n",
    "# print(dungeon.position_agent)"
   ]
  },
  {
   "cell_type": "markdown",
   "metadata": {},
   "source": [
    "# Part 2 - Defining a policy\n",
    "\n",
    "A policy tells the agent how to act depending on its current observation and internal beliefs.\n",
    "\n",
    "As a first simple case, we will define policy as a function that maps observations to actions.\n",
    "\n",
    "As your agent is stupid and doesn't have any way of learning what to do, in this first lab we will write by hand the policy.\n",
    "Try to come up with a strategy to terminate the game with the maximum reward.\n",
    "\n",
    "We advise you to start with a very simple policy, then maybe try a random policy, and finally an 'intelligent' policy.\n"
   ]
  },
  {
   "cell_type": "code",
   "execution_count": null,
   "metadata": {},
   "outputs": [],
   "source": [
    "def basic_policy(observation):\n",
    "    \n",
    "    ...\n",
    "    \n",
    "    return action\n",
    "\n",
    "def random_policy(observation):\n",
    "    ...\n",
    "    \n",
    "def intelligent_policy(observation):\n",
    "    ...\n",
    "    "
   ]
  },
  {
   "cell_type": "markdown",
   "metadata": {},
   "source": [
    "# Part 3 - Evaluating your policy\n",
    "\n",
    "Now that you have the environment and policies, you can simulate runs of your games under different policies and evaluate the reward that particular policies will get upon termination of the environment. \n",
    "\n",
    "To that effect, we will create a function run_single_experiment, which will have as input:\n",
    "- an instance of an environment\n",
    "- a policy\n",
    "\n",
    "And it will return the reward obtained once the environment terminates.\n"
   ]
  },
  {
   "cell_type": "code",
   "execution_count": null,
   "metadata": {},
   "outputs": [],
   "source": [
    "def run_single_exp(envir, policy):\n",
    "    \n",
    "    obs = envir.reset()\n",
    "    done = False\n",
    "    \n",
    "    while not done:\n",
    "        \n",
    "        action = ...\n",
    "        obs, reward, done = ...\n",
    "        \n",
    "    \n",
    "    return total_reward"
   ]
  },
  {
   "cell_type": "markdown",
   "metadata": {},
   "source": [
    "# Part 3 - Evaluating your policy\n",
    "\n",
    "Now that you can evaluate how a policy performs on a particular environment, consider the following.\n",
    "Because of stochasticity of initial agent position and exit position, different runs will lead to different total rewards.\n",
    "\n",
    "To properly evaluate our policies, we must calculate the statistics over multiple runs.\n",
    "\n",
    "To that effect, we will create a function run_experiments, which will have as input:\n",
    "- an instance of an environment\n",
    "- a policy\n",
    "- a number of times that the experiment will be run\n",
    "\n",
    "It will return the maximum reward obtained over all the runs, the average and variance over the rewards.\n"
   ]
  },
  {
   "cell_type": "code",
   "execution_count": null,
   "metadata": {},
   "outputs": [],
   "source": [
    "def run_experiments(envir, policy, number_exp):\n",
    "    \n",
    "    all_rewards = []\n",
    "    \n",
    "    for n in range(number_exp):\n",
    "        \n",
    "        final_reward = run_single_exp(envir, policy)\n",
    "        all_rewards.append(final_reward)\n",
    "    \n",
    "    max_reward = \n",
    "    mean_reward = \n",
    "    var_reward = \n",
    "    \n",
    "    return max_reward, mean_reward, var_reward\n",
    "    "
   ]
  },
  {
   "cell_type": "markdown",
   "metadata": {},
   "source": [
    "# Part 4\n",
    "\n",
    "Draw some plots to compare how your different policies perform depending on the environment size.\n",
    "\n",
    "As the environment generation is also stochastic (random obstacles and lava), you might need to compute additional statistics.\n"
   ]
  },
  {
   "cell_type": "code",
   "execution_count": null,
   "metadata": {},
   "outputs": [],
   "source": []
  }
 ],
 "metadata": {
  "kernelspec": {
   "display_name": "Python 3",
   "language": "python",
   "name": "python3"
  },
  "language_info": {
   "codemirror_mode": {
    "name": "ipython",
    "version": 3
   },
   "file_extension": ".py",
   "mimetype": "text/x-python",
   "name": "python",
   "nbconvert_exporter": "python",
   "pygments_lexer": "ipython3",
   "version": "3.7.4"
  }
 },
 "nbformat": 4,
 "nbformat_minor": 4
}
